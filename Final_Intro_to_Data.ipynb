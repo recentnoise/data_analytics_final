{
 "cells": [
  {
   "cell_type": "markdown",
   "id": "c86a0ec7",
   "metadata": {},
   "source": [
    "#                                                      1. Introduction\n",
    "\n",
    "**Topic:** Medical Cost (Prediction)\n",
    "\n",
    "\n",
    "**Link:** https://www.kaggle.com/mirichoi0218/insurance\n",
    "\n",
    "**Goal of a project:** Analyze of impact of columns to charges of medical treatment and try apply simple Linear regression to chosen dataset and visualize it.\n",
    "\n",
    "**Why I choose this dataset?** I'm interested on medical sphere since 2019 years and search datasets according my prefer thing. So I find in kaggle this good datasets with several column value and over 1000+ row data.\n",
    "\n",
    "**Done by:** Zhanibek Balabaev BD-2005"
   ]
  },
  {
   "cell_type": "markdown",
   "id": "3ea06623",
   "metadata": {},
   "source": [
    "# 2. Data description\n",
    "\n",
    "Row number: 1338\n",
    "\n",
    "Column number: 7 \n",
    "\n",
    "dtypes: float64(2), int64(2), object(3)\n",
    "\n",
    "memory usage: 73.3+ KB\n",
    "\n",
    "There are four numerical variables:\n",
    "- Age\n",
    "- BMI\n",
    "- children\n",
    "- Charges \n",
    "\n",
    "There are three categorical variables:\n",
    "- Sex\n",
    "- Smoker\n",
    "- Region"
   ]
  },
  {
   "cell_type": "code",
   "execution_count": 1,
   "id": "ee015ac4",
   "metadata": {},
   "outputs": [
    {
     "data": {
      "text/html": [
       "<div>\n",
       "<style scoped>\n",
       "    .dataframe tbody tr th:only-of-type {\n",
       "        vertical-align: middle;\n",
       "    }\n",
       "\n",
       "    .dataframe tbody tr th {\n",
       "        vertical-align: top;\n",
       "    }\n",
       "\n",
       "    .dataframe thead th {\n",
       "        text-align: right;\n",
       "    }\n",
       "</style>\n",
       "<table border=\"1\" class=\"dataframe\">\n",
       "  <thead>\n",
       "    <tr style=\"text-align: right;\">\n",
       "      <th></th>\n",
       "      <th>age</th>\n",
       "      <th>sex</th>\n",
       "      <th>bmi</th>\n",
       "      <th>children</th>\n",
       "      <th>smoker</th>\n",
       "      <th>region</th>\n",
       "      <th>charges</th>\n",
       "    </tr>\n",
       "  </thead>\n",
       "  <tbody>\n",
       "    <tr>\n",
       "      <th>0</th>\n",
       "      <td>19</td>\n",
       "      <td>female</td>\n",
       "      <td>27.900</td>\n",
       "      <td>0</td>\n",
       "      <td>yes</td>\n",
       "      <td>southwest</td>\n",
       "      <td>16884.92400</td>\n",
       "    </tr>\n",
       "    <tr>\n",
       "      <th>1</th>\n",
       "      <td>18</td>\n",
       "      <td>male</td>\n",
       "      <td>33.770</td>\n",
       "      <td>1</td>\n",
       "      <td>no</td>\n",
       "      <td>southeast</td>\n",
       "      <td>1725.55230</td>\n",
       "    </tr>\n",
       "    <tr>\n",
       "      <th>2</th>\n",
       "      <td>28</td>\n",
       "      <td>male</td>\n",
       "      <td>33.000</td>\n",
       "      <td>3</td>\n",
       "      <td>no</td>\n",
       "      <td>southeast</td>\n",
       "      <td>4449.46200</td>\n",
       "    </tr>\n",
       "    <tr>\n",
       "      <th>3</th>\n",
       "      <td>33</td>\n",
       "      <td>male</td>\n",
       "      <td>22.705</td>\n",
       "      <td>0</td>\n",
       "      <td>no</td>\n",
       "      <td>northwest</td>\n",
       "      <td>21984.47061</td>\n",
       "    </tr>\n",
       "    <tr>\n",
       "      <th>4</th>\n",
       "      <td>32</td>\n",
       "      <td>male</td>\n",
       "      <td>28.880</td>\n",
       "      <td>0</td>\n",
       "      <td>no</td>\n",
       "      <td>northwest</td>\n",
       "      <td>3866.85520</td>\n",
       "    </tr>\n",
       "  </tbody>\n",
       "</table>\n",
       "</div>"
      ],
      "text/plain": [
       "   age     sex     bmi  children smoker     region      charges\n",
       "0   19  female  27.900         0    yes  southwest  16884.92400\n",
       "1   18    male  33.770         1     no  southeast   1725.55230\n",
       "2   28    male  33.000         3     no  southeast   4449.46200\n",
       "3   33    male  22.705         0     no  northwest  21984.47061\n",
       "4   32    male  28.880         0     no  northwest   3866.85520"
      ]
     },
     "execution_count": 1,
     "metadata": {},
     "output_type": "execute_result"
    }
   ],
   "source": [
    "import pandas as pd\n",
    "import numpy as np\n",
    "import matplotlib.pyplot as plt\n",
    "import seaborn as sns\n",
    "df = pd.read_csv('insurance.csv')\n",
    "df.head()"
   ]
  },
  {
   "cell_type": "markdown",
   "id": "3a7e4d8b",
   "metadata": {},
   "source": [
    "# 3. Research question"
   ]
  },
  {
   "cell_type": "markdown",
   "id": "77d6b25a",
   "metadata": {},
   "source": [
    "1) Relation between region(type) and charges\n",
    "\n",
    "2) Which kind of people has higher charges value?\n",
    "\n",
    "3) Does children column affect to charges value or not?\n",
    "\n",
    "4) Does ages affect on charges value and how it increase or decrease according age value?\n",
    "\n",
    "5) If exist difference between gender and charges?\n",
    "\n",
    "6) If BMI level is higher, can we think that medical cost also will be high?"
   ]
  },
  {
   "cell_type": "markdown",
   "id": "8c380935",
   "metadata": {},
   "source": [
    "# 4. Data preparation"
   ]
  },
  {
   "cell_type": "code",
   "execution_count": 2,
   "id": "9bed7992",
   "metadata": {},
   "outputs": [
    {
     "name": "stdout",
     "output_type": "stream",
     "text": [
      "Dataframe shape is: (1338, 7)\n"
     ]
    }
   ],
   "source": [
    "shape_df = df.shape\n",
    "print(\"Dataframe shape is:\", shape_df)"
   ]
  },
  {
   "cell_type": "code",
   "execution_count": 3,
   "id": "c24ceb59",
   "metadata": {},
   "outputs": [
    {
     "data": {
      "text/plain": [
       "age         0\n",
       "sex         0\n",
       "bmi         0\n",
       "children    0\n",
       "smoker      0\n",
       "region      0\n",
       "charges     0\n",
       "dtype: int64"
      ]
     },
     "execution_count": 3,
     "metadata": {},
     "output_type": "execute_result"
    }
   ],
   "source": [
    "#checking missing value from columns\n",
    "#dropna if some column has missing value \n",
    "df.isnull().sum()\n",
    "#df.dropna() dropna if some column has missing value - data cleaning "
   ]
  },
  {
   "cell_type": "code",
   "execution_count": 4,
   "id": "7012bce0",
   "metadata": {},
   "outputs": [
    {
     "data": {
      "text/html": [
       "<div>\n",
       "<style scoped>\n",
       "    .dataframe tbody tr th:only-of-type {\n",
       "        vertical-align: middle;\n",
       "    }\n",
       "\n",
       "    .dataframe tbody tr th {\n",
       "        vertical-align: top;\n",
       "    }\n",
       "\n",
       "    .dataframe thead th {\n",
       "        text-align: right;\n",
       "    }\n",
       "</style>\n",
       "<table border=\"1\" class=\"dataframe\">\n",
       "  <thead>\n",
       "    <tr style=\"text-align: right;\">\n",
       "      <th></th>\n",
       "      <th>age</th>\n",
       "      <th>bmi</th>\n",
       "      <th>children</th>\n",
       "      <th>charges</th>\n",
       "    </tr>\n",
       "  </thead>\n",
       "  <tbody>\n",
       "    <tr>\n",
       "      <th>count</th>\n",
       "      <td>1338.000000</td>\n",
       "      <td>1338.000000</td>\n",
       "      <td>1338.000000</td>\n",
       "      <td>1338.000000</td>\n",
       "    </tr>\n",
       "    <tr>\n",
       "      <th>mean</th>\n",
       "      <td>39.207025</td>\n",
       "      <td>30.663397</td>\n",
       "      <td>1.094918</td>\n",
       "      <td>13270.422265</td>\n",
       "    </tr>\n",
       "    <tr>\n",
       "      <th>std</th>\n",
       "      <td>14.049960</td>\n",
       "      <td>6.098187</td>\n",
       "      <td>1.205493</td>\n",
       "      <td>12110.011237</td>\n",
       "    </tr>\n",
       "    <tr>\n",
       "      <th>min</th>\n",
       "      <td>18.000000</td>\n",
       "      <td>15.960000</td>\n",
       "      <td>0.000000</td>\n",
       "      <td>1121.873900</td>\n",
       "    </tr>\n",
       "    <tr>\n",
       "      <th>25%</th>\n",
       "      <td>27.000000</td>\n",
       "      <td>26.296250</td>\n",
       "      <td>0.000000</td>\n",
       "      <td>4740.287150</td>\n",
       "    </tr>\n",
       "    <tr>\n",
       "      <th>50%</th>\n",
       "      <td>39.000000</td>\n",
       "      <td>30.400000</td>\n",
       "      <td>1.000000</td>\n",
       "      <td>9382.033000</td>\n",
       "    </tr>\n",
       "    <tr>\n",
       "      <th>75%</th>\n",
       "      <td>51.000000</td>\n",
       "      <td>34.693750</td>\n",
       "      <td>2.000000</td>\n",
       "      <td>16639.912515</td>\n",
       "    </tr>\n",
       "    <tr>\n",
       "      <th>max</th>\n",
       "      <td>64.000000</td>\n",
       "      <td>53.130000</td>\n",
       "      <td>5.000000</td>\n",
       "      <td>63770.428010</td>\n",
       "    </tr>\n",
       "  </tbody>\n",
       "</table>\n",
       "</div>"
      ],
      "text/plain": [
       "               age          bmi     children       charges\n",
       "count  1338.000000  1338.000000  1338.000000   1338.000000\n",
       "mean     39.207025    30.663397     1.094918  13270.422265\n",
       "std      14.049960     6.098187     1.205493  12110.011237\n",
       "min      18.000000    15.960000     0.000000   1121.873900\n",
       "25%      27.000000    26.296250     0.000000   4740.287150\n",
       "50%      39.000000    30.400000     1.000000   9382.033000\n",
       "75%      51.000000    34.693750     2.000000  16639.912515\n",
       "max      64.000000    53.130000     5.000000  63770.428010"
      ]
     },
     "execution_count": 4,
     "metadata": {},
     "output_type": "execute_result"
    }
   ],
   "source": [
    "#View through describe() min, max value for numeric datatype\n",
    "df.describe()"
   ]
  },
  {
   "cell_type": "code",
   "execution_count": 5,
   "id": "69e3d2a0",
   "metadata": {},
   "outputs": [
    {
     "data": {
      "text/html": [
       "<div>\n",
       "<style scoped>\n",
       "    .dataframe tbody tr th:only-of-type {\n",
       "        vertical-align: middle;\n",
       "    }\n",
       "\n",
       "    .dataframe tbody tr th {\n",
       "        vertical-align: top;\n",
       "    }\n",
       "\n",
       "    .dataframe thead th {\n",
       "        text-align: right;\n",
       "    }\n",
       "</style>\n",
       "<table border=\"1\" class=\"dataframe\">\n",
       "  <thead>\n",
       "    <tr style=\"text-align: right;\">\n",
       "      <th></th>\n",
       "      <th>sex</th>\n",
       "      <th>smoker</th>\n",
       "      <th>region</th>\n",
       "    </tr>\n",
       "  </thead>\n",
       "  <tbody>\n",
       "    <tr>\n",
       "      <th>count</th>\n",
       "      <td>1338</td>\n",
       "      <td>1338</td>\n",
       "      <td>1338</td>\n",
       "    </tr>\n",
       "    <tr>\n",
       "      <th>unique</th>\n",
       "      <td>2</td>\n",
       "      <td>2</td>\n",
       "      <td>4</td>\n",
       "    </tr>\n",
       "    <tr>\n",
       "      <th>top</th>\n",
       "      <td>male</td>\n",
       "      <td>no</td>\n",
       "      <td>southeast</td>\n",
       "    </tr>\n",
       "    <tr>\n",
       "      <th>freq</th>\n",
       "      <td>676</td>\n",
       "      <td>1064</td>\n",
       "      <td>364</td>\n",
       "    </tr>\n",
       "  </tbody>\n",
       "</table>\n",
       "</div>"
      ],
      "text/plain": [
       "         sex smoker     region\n",
       "count   1338   1338       1338\n",
       "unique     2      2          4\n",
       "top     male     no  southeast\n",
       "freq     676   1064        364"
      ]
     },
     "execution_count": 5,
     "metadata": {},
     "output_type": "execute_result"
    }
   ],
   "source": [
    "#View through describe() min, max value for string datatype\n",
    "df.describe(include=[object])  "
   ]
  },
  {
   "cell_type": "code",
   "execution_count": 6,
   "id": "334c3101",
   "metadata": {},
   "outputs": [
    {
     "data": {
      "text/plain": [
       "array(['southwest', 'southeast', 'northwest', 'northeast'], dtype=object)"
      ]
     },
     "execution_count": 6,
     "metadata": {},
     "output_type": "execute_result"
    }
   ],
   "source": [
    "#unique value of region column\n",
    "df.region.unique()"
   ]
  },
  {
   "cell_type": "code",
   "execution_count": 7,
   "id": "d6fad650",
   "metadata": {},
   "outputs": [
    {
     "data": {
      "text/html": [
       "<div>\n",
       "<style scoped>\n",
       "    .dataframe tbody tr th:only-of-type {\n",
       "        vertical-align: middle;\n",
       "    }\n",
       "\n",
       "    .dataframe tbody tr th {\n",
       "        vertical-align: top;\n",
       "    }\n",
       "\n",
       "    .dataframe thead th {\n",
       "        text-align: right;\n",
       "    }\n",
       "</style>\n",
       "<table border=\"1\" class=\"dataframe\">\n",
       "  <thead>\n",
       "    <tr style=\"text-align: right;\">\n",
       "      <th></th>\n",
       "      <th>age</th>\n",
       "      <th>sex</th>\n",
       "      <th>bmi</th>\n",
       "      <th>children</th>\n",
       "      <th>smoker</th>\n",
       "      <th>region</th>\n",
       "      <th>charges</th>\n",
       "    </tr>\n",
       "  </thead>\n",
       "  <tbody>\n",
       "    <tr>\n",
       "      <th>0</th>\n",
       "      <td>19</td>\n",
       "      <td>1</td>\n",
       "      <td>27.900</td>\n",
       "      <td>0</td>\n",
       "      <td>yes</td>\n",
       "      <td>southwest</td>\n",
       "      <td>16884.92400</td>\n",
       "    </tr>\n",
       "    <tr>\n",
       "      <th>1</th>\n",
       "      <td>18</td>\n",
       "      <td>0</td>\n",
       "      <td>33.770</td>\n",
       "      <td>1</td>\n",
       "      <td>no</td>\n",
       "      <td>southeast</td>\n",
       "      <td>1725.55230</td>\n",
       "    </tr>\n",
       "    <tr>\n",
       "      <th>2</th>\n",
       "      <td>28</td>\n",
       "      <td>0</td>\n",
       "      <td>33.000</td>\n",
       "      <td>3</td>\n",
       "      <td>no</td>\n",
       "      <td>southeast</td>\n",
       "      <td>4449.46200</td>\n",
       "    </tr>\n",
       "    <tr>\n",
       "      <th>3</th>\n",
       "      <td>33</td>\n",
       "      <td>0</td>\n",
       "      <td>22.705</td>\n",
       "      <td>0</td>\n",
       "      <td>no</td>\n",
       "      <td>northwest</td>\n",
       "      <td>21984.47061</td>\n",
       "    </tr>\n",
       "    <tr>\n",
       "      <th>4</th>\n",
       "      <td>32</td>\n",
       "      <td>0</td>\n",
       "      <td>28.880</td>\n",
       "      <td>0</td>\n",
       "      <td>no</td>\n",
       "      <td>northwest</td>\n",
       "      <td>3866.85520</td>\n",
       "    </tr>\n",
       "  </tbody>\n",
       "</table>\n",
       "</div>"
      ],
      "text/plain": [
       "   age  sex     bmi  children smoker     region      charges\n",
       "0   19    1  27.900         0    yes  southwest  16884.92400\n",
       "1   18    0  33.770         1     no  southeast   1725.55230\n",
       "2   28    0  33.000         3     no  southeast   4449.46200\n",
       "3   33    0  22.705         0     no  northwest  21984.47061\n",
       "4   32    0  28.880         0     no  northwest   3866.85520"
      ]
     },
     "execution_count": 7,
     "metadata": {},
     "output_type": "execute_result"
    }
   ],
   "source": [
    "gender = {'male':0, 'female':1}\n",
    "# replace sex column with 0/1\n",
    "df['sex'] = df['sex'].apply(lambda x: gender[x])\n",
    "# print head to verify\n",
    "df.head()"
   ]
  },
  {
   "cell_type": "code",
   "execution_count": 8,
   "id": "05c3825b",
   "metadata": {},
   "outputs": [
    {
     "data": {
      "text/html": [
       "<div>\n",
       "<style scoped>\n",
       "    .dataframe tbody tr th:only-of-type {\n",
       "        vertical-align: middle;\n",
       "    }\n",
       "\n",
       "    .dataframe tbody tr th {\n",
       "        vertical-align: top;\n",
       "    }\n",
       "\n",
       "    .dataframe thead th {\n",
       "        text-align: right;\n",
       "    }\n",
       "</style>\n",
       "<table border=\"1\" class=\"dataframe\">\n",
       "  <thead>\n",
       "    <tr style=\"text-align: right;\">\n",
       "      <th></th>\n",
       "      <th>sex</th>\n",
       "      <th>bmi</th>\n",
       "      <th>children</th>\n",
       "      <th>smoker</th>\n",
       "      <th>region</th>\n",
       "      <th>charges</th>\n",
       "      <th>age_group</th>\n",
       "    </tr>\n",
       "  </thead>\n",
       "  <tbody>\n",
       "    <tr>\n",
       "      <th>0</th>\n",
       "      <td>1</td>\n",
       "      <td>27.900</td>\n",
       "      <td>0</td>\n",
       "      <td>yes</td>\n",
       "      <td>southwest</td>\n",
       "      <td>16884.92400</td>\n",
       "      <td>Young Adults</td>\n",
       "    </tr>\n",
       "    <tr>\n",
       "      <th>1</th>\n",
       "      <td>0</td>\n",
       "      <td>33.770</td>\n",
       "      <td>1</td>\n",
       "      <td>no</td>\n",
       "      <td>southeast</td>\n",
       "      <td>1725.55230</td>\n",
       "      <td>Young Adults</td>\n",
       "    </tr>\n",
       "    <tr>\n",
       "      <th>2</th>\n",
       "      <td>0</td>\n",
       "      <td>33.000</td>\n",
       "      <td>3</td>\n",
       "      <td>no</td>\n",
       "      <td>southeast</td>\n",
       "      <td>4449.46200</td>\n",
       "      <td>Young Adults</td>\n",
       "    </tr>\n",
       "    <tr>\n",
       "      <th>3</th>\n",
       "      <td>0</td>\n",
       "      <td>22.705</td>\n",
       "      <td>0</td>\n",
       "      <td>no</td>\n",
       "      <td>northwest</td>\n",
       "      <td>21984.47061</td>\n",
       "      <td>Young Adults</td>\n",
       "    </tr>\n",
       "    <tr>\n",
       "      <th>4</th>\n",
       "      <td>0</td>\n",
       "      <td>28.880</td>\n",
       "      <td>0</td>\n",
       "      <td>no</td>\n",
       "      <td>northwest</td>\n",
       "      <td>3866.85520</td>\n",
       "      <td>Young Adults</td>\n",
       "    </tr>\n",
       "    <tr>\n",
       "      <th>5</th>\n",
       "      <td>1</td>\n",
       "      <td>25.740</td>\n",
       "      <td>0</td>\n",
       "      <td>no</td>\n",
       "      <td>southeast</td>\n",
       "      <td>3756.62160</td>\n",
       "      <td>Young Adults</td>\n",
       "    </tr>\n",
       "    <tr>\n",
       "      <th>6</th>\n",
       "      <td>1</td>\n",
       "      <td>33.440</td>\n",
       "      <td>1</td>\n",
       "      <td>no</td>\n",
       "      <td>southeast</td>\n",
       "      <td>8240.58960</td>\n",
       "      <td>Middle Adults</td>\n",
       "    </tr>\n",
       "    <tr>\n",
       "      <th>7</th>\n",
       "      <td>1</td>\n",
       "      <td>27.740</td>\n",
       "      <td>3</td>\n",
       "      <td>no</td>\n",
       "      <td>northwest</td>\n",
       "      <td>7281.50560</td>\n",
       "      <td>Young Adults</td>\n",
       "    </tr>\n",
       "  </tbody>\n",
       "</table>\n",
       "</div>"
      ],
      "text/plain": [
       "   sex     bmi  children smoker     region      charges      age_group\n",
       "0    1  27.900         0    yes  southwest  16884.92400   Young Adults\n",
       "1    0  33.770         1     no  southeast   1725.55230   Young Adults\n",
       "2    0  33.000         3     no  southeast   4449.46200   Young Adults\n",
       "3    0  22.705         0     no  northwest  21984.47061   Young Adults\n",
       "4    0  28.880         0     no  northwest   3866.85520   Young Adults\n",
       "5    1  25.740         0     no  southeast   3756.62160   Young Adults\n",
       "6    1  33.440         1     no  southeast   8240.58960  Middle Adults\n",
       "7    1  27.740         3     no  northwest   7281.50560   Young Adults"
      ]
     },
     "execution_count": 8,
     "metadata": {},
     "output_type": "execute_result"
    }
   ],
   "source": [
    "#update our dataframe with condition add new column to existing dataframe with loc\n",
    "df.loc[(df.age >= 18) & (df.age < 40), 'age_group'] = 'Young Adults' \n",
    "df.loc[(df.age >= 40) & (df.age < 60), 'age_group'] = 'Middle Adults' \n",
    "df.loc[(df.age >= 60) & (df.age < 100), 'age_group'] = 'Old Adults'\n",
    "df.drop('age', axis=1, inplace=True)\n",
    "df.head(8)"
   ]
  },
  {
   "cell_type": "code",
   "execution_count": 9,
   "id": "d379d598",
   "metadata": {},
   "outputs": [
    {
     "data": {
      "text/html": [
       "<div>\n",
       "<style scoped>\n",
       "    .dataframe tbody tr th:only-of-type {\n",
       "        vertical-align: middle;\n",
       "    }\n",
       "\n",
       "    .dataframe tbody tr th {\n",
       "        vertical-align: top;\n",
       "    }\n",
       "\n",
       "    .dataframe thead th {\n",
       "        text-align: right;\n",
       "    }\n",
       "</style>\n",
       "<table border=\"1\" class=\"dataframe\">\n",
       "  <thead>\n",
       "    <tr style=\"text-align: right;\">\n",
       "      <th></th>\n",
       "      <th>sex</th>\n",
       "      <th>bmi</th>\n",
       "      <th>children</th>\n",
       "      <th>smoker</th>\n",
       "      <th>region</th>\n",
       "      <th>charges</th>\n",
       "      <th>age_group</th>\n",
       "    </tr>\n",
       "  </thead>\n",
       "  <tbody>\n",
       "    <tr>\n",
       "      <th>0</th>\n",
       "      <td>1</td>\n",
       "      <td>27.900</td>\n",
       "      <td>0</td>\n",
       "      <td>yes</td>\n",
       "      <td>southwest</td>\n",
       "      <td>16884.92400</td>\n",
       "      <td>Young Adults</td>\n",
       "    </tr>\n",
       "    <tr>\n",
       "      <th>1</th>\n",
       "      <td>0</td>\n",
       "      <td>33.770</td>\n",
       "      <td>1</td>\n",
       "      <td>no</td>\n",
       "      <td>southeast</td>\n",
       "      <td>1725.55230</td>\n",
       "      <td>Young Adults</td>\n",
       "    </tr>\n",
       "    <tr>\n",
       "      <th>2</th>\n",
       "      <td>0</td>\n",
       "      <td>33.000</td>\n",
       "      <td>3</td>\n",
       "      <td>no</td>\n",
       "      <td>southeast</td>\n",
       "      <td>4449.46200</td>\n",
       "      <td>Young Adults</td>\n",
       "    </tr>\n",
       "    <tr>\n",
       "      <th>3</th>\n",
       "      <td>0</td>\n",
       "      <td>22.705</td>\n",
       "      <td>0</td>\n",
       "      <td>no</td>\n",
       "      <td>northwest</td>\n",
       "      <td>21984.47061</td>\n",
       "      <td>Young Adults</td>\n",
       "    </tr>\n",
       "    <tr>\n",
       "      <th>4</th>\n",
       "      <td>0</td>\n",
       "      <td>28.880</td>\n",
       "      <td>0</td>\n",
       "      <td>no</td>\n",
       "      <td>northwest</td>\n",
       "      <td>3866.85520</td>\n",
       "      <td>Young Adults</td>\n",
       "    </tr>\n",
       "  </tbody>\n",
       "</table>\n",
       "</div>"
      ],
      "text/plain": [
       "   sex     bmi  children smoker     region      charges     age_group\n",
       "0    1  27.900         0    yes  southwest  16884.92400  Young Adults\n",
       "1    0  33.770         1     no  southeast   1725.55230  Young Adults\n",
       "2    0  33.000         3     no  southeast   4449.46200  Young Adults\n",
       "3    0  22.705         0     no  northwest  21984.47061  Young Adults\n",
       "4    0  28.880         0     no  northwest   3866.85520  Young Adults"
      ]
     },
     "execution_count": 9,
     "metadata": {},
     "output_type": "execute_result"
    }
   ],
   "source": [
    "#Result of after data preparation\n",
    "df.head()"
   ]
  },
  {
   "cell_type": "markdown",
   "id": "4510cdb0",
   "metadata": {},
   "source": [
    "# 5. Data analysis and visualisation"
   ]
  },
  {
   "cell_type": "markdown",
   "id": "9235aa90",
   "metadata": {},
   "source": [
    "### 5.1 Q1: Relation between region(type) and charges\n",
    "\n",
    "We look into value counts of region column, then plot information using searborn to see differences. Our goal is look relation between them and conclude our findings."
   ]
  },
  {
   "cell_type": "code",
   "execution_count": 10,
   "id": "d80883dd",
   "metadata": {},
   "outputs": [
    {
     "data": {
      "text/html": [
       "<div>\n",
       "<style scoped>\n",
       "    .dataframe tbody tr th:only-of-type {\n",
       "        vertical-align: middle;\n",
       "    }\n",
       "\n",
       "    .dataframe tbody tr th {\n",
       "        vertical-align: top;\n",
       "    }\n",
       "\n",
       "    .dataframe thead th {\n",
       "        text-align: right;\n",
       "    }\n",
       "</style>\n",
       "<table border=\"1\" class=\"dataframe\">\n",
       "  <thead>\n",
       "    <tr style=\"text-align: right;\">\n",
       "      <th></th>\n",
       "      <th>region</th>\n",
       "    </tr>\n",
       "  </thead>\n",
       "  <tbody>\n",
       "    <tr>\n",
       "      <th>southeast</th>\n",
       "      <td>364</td>\n",
       "    </tr>\n",
       "    <tr>\n",
       "      <th>southwest</th>\n",
       "      <td>325</td>\n",
       "    </tr>\n",
       "    <tr>\n",
       "      <th>northwest</th>\n",
       "      <td>325</td>\n",
       "    </tr>\n",
       "    <tr>\n",
       "      <th>northeast</th>\n",
       "      <td>324</td>\n",
       "    </tr>\n",
       "  </tbody>\n",
       "</table>\n",
       "</div>"
      ],
      "text/plain": [
       "           region\n",
       "southeast     364\n",
       "southwest     325\n",
       "northwest     325\n",
       "northeast     324"
      ]
     },
     "execution_count": 10,
     "metadata": {},
     "output_type": "execute_result"
    }
   ],
   "source": [
    "region = df['region'].value_counts()\n",
    "region.to_frame() #output in dataframe form to_frame()"
   ]
  },
  {
   "cell_type": "code",
   "execution_count": 11,
   "id": "68701628",
   "metadata": {},
   "outputs": [
    {
     "data": {
      "image/png": "[encoded data removed]",
      "text/plain": [
       "<Figure size 720x432 with 1 Axes>"
      ]
     },
     "metadata": {
      "needs_background": "light"
     },
     "output_type": "display_data"
    }
   ],
   "source": [
    "plt.figure(figsize=(10,6)) #size of our plot\n",
    "sns.countplot(x='region', data=df) #Show the counts of observations in each categorical bin using bars \n",
    "plt.title('Number of different regions type Figure 5.1.1', size='20') #title of bar\n",
    "plt.ylabel('Count') #label name for x, y \n",
    "plt.xlabel('Region')\n",
    "plt.show() #show result"
   ]
  },
  {
   "cell_type": "code",
   "execution_count": 12,
   "id": "69e25258",
   "metadata": {},
   "outputs": [
    {
     "name": "stderr",
     "output_type": "stream",
     "text": [
      "C:\\Users\\zhani\\anaconda3\\lib\\site-packages\\seaborn\\axisgrid.py:643: UserWarning: Using the barplot function without specifying `order` is likely to produce an incorrect plot.\n",
      "  warnings.warn(warning)\n"
     ]
    },
    {
     "data": {
      "text/plain": [
       "Text(0.5, 1.0, 'Relation between region and charges Figure 5.1.2')"
      ]
     },
     "execution_count": 12,
     "metadata": {},
     "output_type": "execute_result"
    },
    {
     "data": {
      "text/plain": [
       "<Figure size 720x432 with 0 Axes>"
      ]
     },
     "metadata": {},
     "output_type": "display_data"
    },
    {
     "data": {
      "image/png": "[encoded data removed]",
      "text/plain": [
       "<Figure size 1008x288 with 1 Axes>"
      ]
     },
     "metadata": {
      "needs_background": "light"
     },
     "output_type": "display_data"
    }
   ],
   "source": [
    "plt.figure(figsize=(10,6)) #figure size \n",
    "g = sns.FacetGrid(df,  height=4, aspect=3.5)\n",
    "g.map(sns.barplot, \"region\", \"charges\")\n",
    "plt.title('Relation between region and charges Figure 5.1.2')"
   ]
  },
  {
   "cell_type": "markdown",
   "id": "535d0f1d",
   "metadata": {},
   "source": [
    "Documentation for [**`countplot`**](https://seaborn.pydata.org/generated/seaborn.countplot.html)"
   ]
  },
  {
   "cell_type": "markdown",
   "id": "e81135ef",
   "metadata": {},
   "source": [
    "### Finding of Q2\n",
    "\n",
    "Almost each region seems to have an equal volume of people. And also charges volume also the properly same. "
   ]
  },
  {
   "cell_type": "markdown",
   "id": "20486e67",
   "metadata": {},
   "source": [
    "### 5.2 Q2: Which kind of people has higher charges value?\n",
    "\n",
    "Create 2 Dataframe for non-smoker and smoker and compare by histogram value and plotting.\n",
    "\n",
    "In addition, consider gender of smoker and non-smoker."
   ]
  },
  {
   "cell_type": "code",
   "execution_count": 13,
   "id": "f3673678",
   "metadata": {},
   "outputs": [
    {
     "name": "stdout",
     "output_type": "stream",
     "text": [
      "Smokers:\n",
      "274\n",
      "Non-smokers:\n",
      "1064\n"
     ]
    }
   ],
   "source": [
    "smokers_df = df[df['smoker'] == \"yes\"]\n",
    "\n",
    "non_smokers_df = df[df['smoker'] == \"no\"]\n",
    "\n",
    "print('Smokers:', smokers_df.shape[0], \"Non-smokers:\", non_smokers_df.shape[0], sep='\\n')"
   ]
  },
  {
   "cell_type": "code",
   "execution_count": 14,
   "id": "4bf40f9c",
   "metadata": {},
   "outputs": [
    {
     "data": {
      "text/plain": [
       "Text(0.5, 1.0, 'Distribution of charges for non-smokers Figure 5.2.2')"
      ]
     },
     "execution_count": 14,
     "metadata": {},
     "output_type": "execute_result"
    },
    {
     "data": {
      "image/png": "[encoded data removed]",
      "text/plain": [
       "<Figure size 864x360 with 2 Axes>"
      ]
     },
     "metadata": {
      "needs_background": "light"
     },
     "output_type": "display_data"
    }
   ],
   "source": [
    "# create the figure\n",
    "fig = plt.figure(figsize=(12,5))\n",
    "\n",
    "# add first sub plot for smokers\n",
    "ax = fig.add_subplot(121)\n",
    "# draw distribution of charges for smokers\n",
    "ax.hist(smokers_df[\"charges\"])\n",
    "# set sub plot title\n",
    "ax.set_title('Distribution of charges for smokers Figure 5.2.1')\n",
    "\n",
    "# add second sub plot for non smokers\n",
    "ax = fig.add_subplot(122)\n",
    "# draw distribution of charges for non-smokers\n",
    "ax.hist(non_smokers_df[\"charges\"])\n",
    "# set sub plot title\n",
    "ax.set_title('Distribution of charges for non-smokers Figure 5.2.2')"
   ]
  },
  {
   "cell_type": "markdown",
   "id": "d472ea36",
   "metadata": {},
   "source": [
    "### Now lets check smoker/non-smoker gender"
   ]
  },
  {
   "cell_type": "code",
   "execution_count": 15,
   "id": "f0dc650d",
   "metadata": {},
   "outputs": [
    {
     "data": {
      "text/plain": [
       "Text(0.5, 1.0, 'Number of smokers and non-smokers Figure 5.2.3')"
      ]
     },
     "execution_count": 15,
     "metadata": {},
     "output_type": "execute_result"
    },
    {
     "data": {
      "image/png": "[encoded data removed]",
      "text/plain": [
       "<Figure size 1080x360 with 1 Axes>"
      ]
     },
     "metadata": {
      "needs_background": "light"
     },
     "output_type": "display_data"
    }
   ],
   "source": [
    "# create the figure\n",
    "plt.figure(figsize=(15,5))\n",
    "# draw barchart of count for smokers male and female with countplot()\n",
    "sns.countplot(x='smoker', hue='sex', data=df)\n",
    "#set label x \n",
    "plt.xlabel('Smoker')\n",
    "#set label y \n",
    "plt.ylabel('Count')\n",
    "#set title \n",
    "plt.title(\"Number of smokers and non-smokers Figure 5.2.3\")"
   ]
  },
  {
   "cell_type": "markdown",
   "id": "a3a6b609",
   "metadata": {},
   "source": [
    "### Finding of Q2\n",
    "\n",
    "- According histogram, smoker patients spend more than non-smoker patients on medical treatment. And Male gender smoke more than female. That's way gender don't affect on charges and type of people like smoker and non-smoker."
   ]
  },
  {
   "cell_type": "markdown",
   "id": "7e8c1ddc",
   "metadata": {},
   "source": [
    "### 5.3 Q3: Does children column affect to charges value or not?\n",
    "\n",
    "Column children contain value of each patients value. It's affect on charges or not?\n",
    "\n",
    "Look through value_counts our values. Then plot boxplot and make some findings from it."
   ]
  },
  {
   "cell_type": "code",
   "execution_count": 16,
   "id": "d81bf22e",
   "metadata": {},
   "outputs": [
    {
     "data": {
      "text/html": [
       "<div>\n",
       "<style scoped>\n",
       "    .dataframe tbody tr th:only-of-type {\n",
       "        vertical-align: middle;\n",
       "    }\n",
       "\n",
       "    .dataframe tbody tr th {\n",
       "        vertical-align: top;\n",
       "    }\n",
       "\n",
       "    .dataframe thead th {\n",
       "        text-align: right;\n",
       "    }\n",
       "</style>\n",
       "<table border=\"1\" class=\"dataframe\">\n",
       "  <thead>\n",
       "    <tr style=\"text-align: right;\">\n",
       "      <th></th>\n",
       "      <th>children</th>\n",
       "    </tr>\n",
       "  </thead>\n",
       "  <tbody>\n",
       "    <tr>\n",
       "      <th>0</th>\n",
       "      <td>574</td>\n",
       "    </tr>\n",
       "    <tr>\n",
       "      <th>1</th>\n",
       "      <td>324</td>\n",
       "    </tr>\n",
       "    <tr>\n",
       "      <th>2</th>\n",
       "      <td>240</td>\n",
       "    </tr>\n",
       "    <tr>\n",
       "      <th>3</th>\n",
       "      <td>157</td>\n",
       "    </tr>\n",
       "    <tr>\n",
       "      <th>4</th>\n",
       "      <td>25</td>\n",
       "    </tr>\n",
       "    <tr>\n",
       "      <th>5</th>\n",
       "      <td>18</td>\n",
       "    </tr>\n",
       "  </tbody>\n",
       "</table>\n",
       "</div>"
      ],
      "text/plain": [
       "   children\n",
       "0       574\n",
       "1       324\n",
       "2       240\n",
       "3       157\n",
       "4        25\n",
       "5        18"
      ]
     },
     "execution_count": 16,
     "metadata": {},
     "output_type": "execute_result"
    }
   ],
   "source": [
    "df.children.value_counts().to_frame()"
   ]
  },
  {
   "cell_type": "markdown",
   "id": "b496dad5",
   "metadata": {},
   "source": [
    "As you can see, many patients hasn't got children. So now we need see affect to charges value."
   ]
  },
  {
   "cell_type": "code",
   "execution_count": 17,
   "id": "518ef2e0",
   "metadata": {},
   "outputs": [
    {
     "data": {
      "text/plain": [
       "Text(0.5, 0, 'Number of children')"
      ]
     },
     "execution_count": 17,
     "metadata": {},
     "output_type": "execute_result"
    },
    {
     "data": {
      "image/png": "[encoded data removed]",
      "text/plain": [
       "<Figure size 1152x432 with 1 Axes>"
      ]
     },
     "metadata": {
      "needs_background": "light"
     },
     "output_type": "display_data"
    }
   ],
   "source": [
    "#create a figure\n",
    "plt.figure(figsize=(16,6))\n",
    "#plot boxplot of children and charges with legend of sex\n",
    "sns.boxplot(x=\"children\", y=\"charges\",hue='sex',data=df)\n",
    "#set a title \n",
    "plt.title('Charges based on the number of children Figure 5.3', size='23')\n",
    "#set a label y\n",
    "plt.ylabel('Charges',size=18)\n",
    "#set a label x\n",
    "plt.xlabel('Number of children',size=15)"
   ]
  },
  {
   "cell_type": "markdown",
   "id": "85a08d01",
   "metadata": {},
   "source": [
    "### Finding of Q3\n",
    "\n",
    "- Except for people with five children, practically all groups have the same range and mean of charges, as well as relatively comparable distributions. This might be due to the tiny sample size of this type of person."
   ]
  },
  {
   "cell_type": "markdown",
   "id": "60ddcdad",
   "metadata": {},
   "source": [
    "## 5.4 Q4: Does ages affect on charges value and how it increase or decrease according age value?\n",
    "\n",
    "Minimum value of age was 18 and maximum was 65. With group name of age category, consider with scatter plot on charges value and make findings from it."
   ]
  },
  {
   "cell_type": "code",
   "execution_count": 18,
   "id": "b34e6462",
   "metadata": {},
   "outputs": [
    {
     "data": {
      "text/html": [
       "<div>\n",
       "<style scoped>\n",
       "    .dataframe tbody tr th:only-of-type {\n",
       "        vertical-align: middle;\n",
       "    }\n",
       "\n",
       "    .dataframe tbody tr th {\n",
       "        vertical-align: top;\n",
       "    }\n",
       "\n",
       "    .dataframe thead th {\n",
       "        text-align: right;\n",
       "    }\n",
       "</style>\n",
       "<table border=\"1\" class=\"dataframe\">\n",
       "  <thead>\n",
       "    <tr style=\"text-align: right;\">\n",
       "      <th></th>\n",
       "      <th>age_group</th>\n",
       "    </tr>\n",
       "  </thead>\n",
       "  <tbody>\n",
       "    <tr>\n",
       "      <th>Young Adults</th>\n",
       "      <td>674</td>\n",
       "    </tr>\n",
       "    <tr>\n",
       "      <th>Middle Adults</th>\n",
       "      <td>550</td>\n",
       "    </tr>\n",
       "    <tr>\n",
       "      <th>Old Adults</th>\n",
       "      <td>114</td>\n",
       "    </tr>\n",
       "  </tbody>\n",
       "</table>\n",
       "</div>"
      ],
      "text/plain": [
       "               age_group\n",
       "Young Adults         674\n",
       "Middle Adults        550\n",
       "Old Adults           114"
      ]
     },
     "execution_count": 18,
     "metadata": {},
     "output_type": "execute_result"
    }
   ],
   "source": [
    "grouped = df.age_group.value_counts()\n",
    "grouped.to_frame()"
   ]
  },
  {
   "cell_type": "code",
   "execution_count": 19,
   "id": "ac987541",
   "metadata": {},
   "outputs": [
    {
     "data": {
      "text/plain": [
       "Text(0.5, 1.0, 'Scatter plot of charges and age Figure 5.4')"
      ]
     },
     "execution_count": 19,
     "metadata": {},
     "output_type": "execute_result"
    },
    {
     "data": {
      "image/png": "[encoded data removed]",
      "text/plain": [
       "<Figure size 720x576 with 1 Axes>"
      ]
     },
     "metadata": {
      "needs_background": "light"
     },
     "output_type": "display_data"
    }
   ],
   "source": [
    "plt.figure(figsize=(10,8))\n",
    "sns.scatterplot(x='age_group',y='charges',data=df,hue='smoker')\n",
    "plt.title('Scatter plot of charges and age Figure 5.4', size='20')"
   ]
  },
  {
   "cell_type": "markdown",
   "id": "e6a031f8",
   "metadata": {},
   "source": [
    "### Finding of Q4\n",
    "\n",
    "- As a person's age grows, so do the charges.\n",
    "\n",
    "- Smokers and obesity persons, regardless of age, have the highest expenses."
   ]
  },
  {
   "cell_type": "markdown",
   "id": "b12775e6",
   "metadata": {},
   "source": [
    "## 5.5 Q5: If exist difference between gender and charges?\n",
    "\n",
    "In section 5.2 we consider just count and plot barchart of smoker and non-smoker gender(male/female) and find that male smoke more than female. Now, we want watch proportion of male/female and plot distribution function look the dynamic flow."
   ]
  },
  {
   "cell_type": "code",
   "execution_count": 20,
   "id": "05bd92a4",
   "metadata": {},
   "outputs": [
    {
     "data": {
      "text/html": [
       "<div>\n",
       "<style scoped>\n",
       "    .dataframe tbody tr th:only-of-type {\n",
       "        vertical-align: middle;\n",
       "    }\n",
       "\n",
       "    .dataframe tbody tr th {\n",
       "        vertical-align: top;\n",
       "    }\n",
       "\n",
       "    .dataframe thead th {\n",
       "        text-align: right;\n",
       "    }\n",
       "</style>\n",
       "<table border=\"1\" class=\"dataframe\">\n",
       "  <thead>\n",
       "    <tr style=\"text-align: right;\">\n",
       "      <th></th>\n",
       "      <th>sex</th>\n",
       "    </tr>\n",
       "  </thead>\n",
       "  <tbody>\n",
       "    <tr>\n",
       "      <th>0</th>\n",
       "      <td>676</td>\n",
       "    </tr>\n",
       "    <tr>\n",
       "      <th>1</th>\n",
       "      <td>662</td>\n",
       "    </tr>\n",
       "  </tbody>\n",
       "</table>\n",
       "</div>"
      ],
      "text/plain": [
       "   sex\n",
       "0  676\n",
       "1  662"
      ]
     },
     "execution_count": 20,
     "metadata": {},
     "output_type": "execute_result"
    }
   ],
   "source": [
    "df.sex.value_counts().to_frame()"
   ]
  },
  {
   "cell_type": "markdown",
   "id": "c1236c80",
   "metadata": {},
   "source": [
    "Male is 676,Female is 662"
   ]
  },
  {
   "cell_type": "code",
   "execution_count": 21,
   "id": "934399b5",
   "metadata": {},
   "outputs": [
    {
     "data": {
      "image/png": "[encoded data removed]",
      "text/plain": [
       "<Figure size 432x288 with 1 Axes>"
      ]
     },
     "metadata": {},
     "output_type": "display_data"
    }
   ],
   "source": [
    "labels = 'Male', 'Female'\n",
    "sizes = [676, 662]\n",
    "fig, ax = plt.subplots()\n",
    "ax.pie(sizes, labels=labels, autopct='%1.2f%%')\n",
    "ax.axis('equal')  # Equal aspect ratio ensures that pie is drawn as a circle.\n",
    "plt.show()"
   ]
  },
  {
   "cell_type": "markdown",
   "id": "3b24a6e1",
   "metadata": {},
   "source": [
    "### Has the same proportion, so lets look affect on charges"
   ]
  },
  {
   "cell_type": "code",
   "execution_count": 22,
   "id": "23dacc9a",
   "metadata": {},
   "outputs": [
    {
     "data": {
      "text/plain": [
       "'\\nThe default ordering of the facets is derived from the information in the DataFrame. \\nIf the variable used to define facets has a categorical type, then the order of the categories is used. \\nOtherwise, the facets will be in the order of appearance of the category levels. It is possible, however, \\nto specify an ordering of any facet dimension with the appropriate *_order parameter:\\n'"
      ]
     },
     "execution_count": 22,
     "metadata": {},
     "output_type": "execute_result"
    },
    {
     "data": {
      "image/png": "[encoded data removed]",
      "text/plain": [
       "<Figure size 1080x432 with 2 Axes>"
      ]
     },
     "metadata": {
      "needs_background": "light"
     },
     "output_type": "display_data"
    }
   ],
   "source": [
    "gender = df.sex.value_counts().index\n",
    "g = sns.FacetGrid(df, row=\"sex\", row_order=gender,\n",
    "                  height=3, aspect=5)\n",
    "\n",
    "g.map(sns.kdeplot, \"charges\")\n",
    "\n",
    "plt.title('Figure 5.5')\n",
    "'''\n",
    "The default ordering of the facets is derived from the information in the DataFrame. \n",
    "If the variable used to define facets has a categorical type, then the order of the categories is used. \n",
    "Otherwise, the facets will be in the order of appearance of the category levels. It is possible, however, \n",
    "to specify an ordering of any facet dimension with the appropriate *_order parameter:\n",
    "'''"
   ]
  },
  {
   "cell_type": "markdown",
   "id": "20d6f5ad",
   "metadata": {},
   "source": [
    "\n",
    "Documentation for [**`sns.FacetGrid`**](https://seaborn.pydata.org/tutorial/axis_grids.html)\n",
    "\n",
    "### Finding Q5\n",
    "\n",
    "- As can be seen, the two distributions are nearly identical for both women and men, indicating that the sex variable has so little impact on medical expenses."
   ]
  },
  {
   "cell_type": "markdown",
   "id": "b189cd62",
   "metadata": {},
   "source": [
    "## 5.6 Q6: If BMI level is higher, can we think that medical cost also will be high?\n",
    "https://www.cdc.gov/healthyweight/assessing/bmi/adult_bmi/index.html - bmi status \n",
    "\n",
    "In this section we consider bmi values and look to influence on charges. \n",
    "\n",
    "Also we divide our bmi values to 4 group and look which group pay more charges:\n",
    "- Underweight \n",
    "\n",
    "- Healthy \n",
    "\n",
    "- Overweight \n",
    "\n",
    "- Obesity"
   ]
  },
  {
   "cell_type": "markdown",
   "id": "84031c4b",
   "metadata": {},
   "source": [
    "Lets look values of bmi from Dataframe"
   ]
  },
  {
   "cell_type": "code",
   "execution_count": 23,
   "id": "8ddb6f74",
   "metadata": {},
   "outputs": [
    {
     "data": {
      "text/html": [
       "<div>\n",
       "<style scoped>\n",
       "    .dataframe tbody tr th:only-of-type {\n",
       "        vertical-align: middle;\n",
       "    }\n",
       "\n",
       "    .dataframe tbody tr th {\n",
       "        vertical-align: top;\n",
       "    }\n",
       "\n",
       "    .dataframe thead th {\n",
       "        text-align: right;\n",
       "    }\n",
       "</style>\n",
       "<table border=\"1\" class=\"dataframe\">\n",
       "  <thead>\n",
       "    <tr style=\"text-align: right;\">\n",
       "      <th></th>\n",
       "      <th>bmi</th>\n",
       "    </tr>\n",
       "  </thead>\n",
       "  <tbody>\n",
       "    <tr>\n",
       "      <th>32.300</th>\n",
       "      <td>13</td>\n",
       "    </tr>\n",
       "    <tr>\n",
       "      <th>28.310</th>\n",
       "      <td>9</td>\n",
       "    </tr>\n",
       "    <tr>\n",
       "      <th>30.800</th>\n",
       "      <td>8</td>\n",
       "    </tr>\n",
       "    <tr>\n",
       "      <th>34.100</th>\n",
       "      <td>8</td>\n",
       "    </tr>\n",
       "    <tr>\n",
       "      <th>28.880</th>\n",
       "      <td>8</td>\n",
       "    </tr>\n",
       "    <tr>\n",
       "      <th>...</th>\n",
       "      <td>...</td>\n",
       "    </tr>\n",
       "    <tr>\n",
       "      <th>44.745</th>\n",
       "      <td>1</td>\n",
       "    </tr>\n",
       "    <tr>\n",
       "      <th>26.070</th>\n",
       "      <td>1</td>\n",
       "    </tr>\n",
       "    <tr>\n",
       "      <th>27.300</th>\n",
       "      <td>1</td>\n",
       "    </tr>\n",
       "    <tr>\n",
       "      <th>37.715</th>\n",
       "      <td>1</td>\n",
       "    </tr>\n",
       "    <tr>\n",
       "      <th>29.200</th>\n",
       "      <td>1</td>\n",
       "    </tr>\n",
       "  </tbody>\n",
       "</table>\n",
       "<p>548 rows × 1 columns</p>\n",
       "</div>"
      ],
      "text/plain": [
       "        bmi\n",
       "32.300   13\n",
       "28.310    9\n",
       "30.800    8\n",
       "34.100    8\n",
       "28.880    8\n",
       "...     ...\n",
       "44.745    1\n",
       "26.070    1\n",
       "27.300    1\n",
       "37.715    1\n",
       "29.200    1\n",
       "\n",
       "[548 rows x 1 columns]"
      ]
     },
     "execution_count": 23,
     "metadata": {},
     "output_type": "execute_result"
    }
   ],
   "source": [
    "df[\"bmi\"].value_counts().to_frame()"
   ]
  },
  {
   "cell_type": "code",
   "execution_count": 24,
   "id": "056c725a",
   "metadata": {},
   "outputs": [
    {
     "data": {
      "text/html": [
       "<div>\n",
       "<style scoped>\n",
       "    .dataframe tbody tr th:only-of-type {\n",
       "        vertical-align: middle;\n",
       "    }\n",
       "\n",
       "    .dataframe tbody tr th {\n",
       "        vertical-align: top;\n",
       "    }\n",
       "\n",
       "    .dataframe thead th {\n",
       "        text-align: right;\n",
       "    }\n",
       "</style>\n",
       "<table border=\"1\" class=\"dataframe\">\n",
       "  <thead>\n",
       "    <tr style=\"text-align: right;\">\n",
       "      <th></th>\n",
       "      <th>sex</th>\n",
       "      <th>bmi</th>\n",
       "      <th>children</th>\n",
       "      <th>smoker</th>\n",
       "      <th>region</th>\n",
       "      <th>charges</th>\n",
       "      <th>age_group</th>\n",
       "      <th>bmi_status</th>\n",
       "    </tr>\n",
       "  </thead>\n",
       "  <tbody>\n",
       "    <tr>\n",
       "      <th>0</th>\n",
       "      <td>1</td>\n",
       "      <td>27.900</td>\n",
       "      <td>0</td>\n",
       "      <td>yes</td>\n",
       "      <td>southwest</td>\n",
       "      <td>16884.92400</td>\n",
       "      <td>Young Adults</td>\n",
       "      <td>Overweight</td>\n",
       "    </tr>\n",
       "    <tr>\n",
       "      <th>1</th>\n",
       "      <td>0</td>\n",
       "      <td>33.770</td>\n",
       "      <td>1</td>\n",
       "      <td>no</td>\n",
       "      <td>southeast</td>\n",
       "      <td>1725.55230</td>\n",
       "      <td>Young Adults</td>\n",
       "      <td>Obesity</td>\n",
       "    </tr>\n",
       "    <tr>\n",
       "      <th>2</th>\n",
       "      <td>0</td>\n",
       "      <td>33.000</td>\n",
       "      <td>3</td>\n",
       "      <td>no</td>\n",
       "      <td>southeast</td>\n",
       "      <td>4449.46200</td>\n",
       "      <td>Young Adults</td>\n",
       "      <td>Obesity</td>\n",
       "    </tr>\n",
       "    <tr>\n",
       "      <th>3</th>\n",
       "      <td>0</td>\n",
       "      <td>22.705</td>\n",
       "      <td>0</td>\n",
       "      <td>no</td>\n",
       "      <td>northwest</td>\n",
       "      <td>21984.47061</td>\n",
       "      <td>Young Adults</td>\n",
       "      <td>Healthy</td>\n",
       "    </tr>\n",
       "    <tr>\n",
       "      <th>4</th>\n",
       "      <td>0</td>\n",
       "      <td>28.880</td>\n",
       "      <td>0</td>\n",
       "      <td>no</td>\n",
       "      <td>northwest</td>\n",
       "      <td>3866.85520</td>\n",
       "      <td>Young Adults</td>\n",
       "      <td>Overweight</td>\n",
       "    </tr>\n",
       "  </tbody>\n",
       "</table>\n",
       "</div>"
      ],
      "text/plain": [
       "   sex     bmi  children smoker     region      charges     age_group  \\\n",
       "0    1  27.900         0    yes  southwest  16884.92400  Young Adults   \n",
       "1    0  33.770         1     no  southeast   1725.55230  Young Adults   \n",
       "2    0  33.000         3     no  southeast   4449.46200  Young Adults   \n",
       "3    0  22.705         0     no  northwest  21984.47061  Young Adults   \n",
       "4    0  28.880         0     no  northwest   3866.85520  Young Adults   \n",
       "\n",
       "   bmi_status  \n",
       "0  Overweight  \n",
       "1     Obesity  \n",
       "2     Obesity  \n",
       "3     Healthy  \n",
       "4  Overweight  "
      ]
     },
     "execution_count": 24,
     "metadata": {},
     "output_type": "execute_result"
    }
   ],
   "source": [
    "# create new dataframe to add new column 'bmi_status' and visualize after jointplot of bmi and charges column\n",
    "df1 = df \n",
    "df1.loc[(df1.bmi < 18.5) , 'bmi_status'] = 'Underweight'\n",
    "df1.loc[(df1.bmi >= 18.5) & (df1.bmi < 25), 'bmi_status'] = 'Healthy' \n",
    "df1.loc[(df1.bmi >= 25) & (df1.bmi < 30), 'bmi_status'] = 'Overweight' \n",
    "df1.loc[(df1.bmi >= 30) , 'bmi_status'] = 'Obesity'\n",
    "df1.head() # new dataframe with new column"
   ]
  },
  {
   "cell_type": "code",
   "execution_count": 25,
   "id": "3403eb11",
   "metadata": {},
   "outputs": [
    {
     "data": {
      "text/plain": [
       "Text(0.5, 1.0, '   Plot Figure 5.6.1')"
      ]
     },
     "execution_count": 25,
     "metadata": {},
     "output_type": "execute_result"
    },
    {
     "data": {
      "image/png": "[encoded data removed]",
      "text/plain": [
       "<Figure size 432x432 with 3 Axes>"
      ]
     },
     "metadata": {
      "needs_background": "light"
     },
     "output_type": "display_data"
    }
   ],
   "source": [
    "sns.jointplot(x=\"bmi\",y=\"charges\",data=df, hue='smoker')\n",
    "plt.title('   Plot Figure 5.6.1')\n",
    "#Draw a plot of two variables with bivariate and univariate graphs"
   ]
  },
  {
   "cell_type": "markdown",
   "id": "845eca3c",
   "metadata": {},
   "source": [
    "Here we see that if bmi value higher than thirty which smokes pay more than other bmi status.And among smoker and non-smoker group, smokers group people pay more for medical treatment.\n",
    "\n",
    "BMI > 30 is 'Obesity' status."
   ]
  },
  {
   "cell_type": "code",
   "execution_count": 26,
   "id": "680e8c23",
   "metadata": {},
   "outputs": [
    {
     "data": {
      "text/plain": [
       "Text(0.5, 1.0, 'Figure 5.6.2')"
      ]
     },
     "execution_count": 26,
     "metadata": {},
     "output_type": "execute_result"
    },
    {
     "data": {
      "image/png": "[encoded data removed]",
      "text/plain": [
       "<Figure size 1152x432 with 1 Axes>"
      ]
     },
     "metadata": {
      "needs_background": "light"
     },
     "output_type": "display_data"
    }
   ],
   "source": [
    "\n",
    "plt.figure(figsize=(16,6))\n",
    "sns.stripplot(x=\"charges\",y=\"bmi_status\",data=df1, hue='smoker',dodge=True)\n",
    "plt.title('Figure 5.6.2')"
   ]
  },
  {
   "cell_type": "markdown",
   "id": "ce7becf8",
   "metadata": {},
   "source": [
    "Here we see clearly that obesity status pay more than other as I mention in Figure 5.6.1."
   ]
  },
  {
   "cell_type": "markdown",
   "id": "67101c51",
   "metadata": {},
   "source": [
    "### Findings of Q6\n",
    "- Obesity status people make up a large portion of smokers.\n",
    "\n",
    "- Even if a person is doesn't have obesity status, but smokes, his or her expenses are likely to be greater."
   ]
  },
  {
   "cell_type": "markdown",
   "id": "e063a2e5",
   "metadata": {},
   "source": [
    "# Conclusion"
   ]
  },
  {
   "cell_type": "markdown",
   "id": "4f34ec58",
   "metadata": {},
   "source": [
    "We discovered that there are no massive differences in charges among groups location or gender. The costs are based on age, BMI, the number of children, and smoking.\n",
    "\n",
    "Main feature from findings:\n",
    "\n",
    "1)The charges are affected by the person's age; as a person becomes older, the health expenditures increase.\n",
    "\n",
    "2)If you smoke, you may expect to pay far more for medical care than non-smokers. It will result in very serious health care expenses, especially for persons with high BMI status (>30).\n",
    "\n",
    "3)This will have no effect on your medical insurance payments, regardless of where you reside.\n",
    "\n",
    "4)The number of children has little impact on the medical expenditures that health insurance companies charge.\n",
    "\n",
    "5)Your health-care costs will remain the same whether you are a male or a female."
   ]
  },
  {
   "cell_type": "markdown",
   "id": "27829748",
   "metadata": {},
   "source": [
    "#  Data Modelling"
   ]
  },
  {
   "cell_type": "code",
   "execution_count": 27,
   "id": "5ad9d224",
   "metadata": {},
   "outputs": [],
   "source": [
    "import sklearn\n",
    "from sklearn.linear_model import LinearRegression\n",
    "x=df[['bmi']] # take values of bmi\n",
    "y=df[['charges']] # take values of charges\n",
    "# Initialise and fit model\n",
    "lr = LinearRegression()\n",
    "lr = lr.fit(x, y) #we will use the fit method to “fit” the model to our dataset."
   ]
  },
  {
   "cell_type": "code",
   "execution_count": 28,
   "id": "e0b1633f",
   "metadata": {},
   "outputs": [
    {
     "data": {
      "image/png": "[encoded data removed]",
      "text/plain": [
       "<Figure size 432x288 with 1 Axes>"
      ]
     },
     "metadata": {
      "needs_background": "light"
     },
     "output_type": "display_data"
    }
   ],
   "source": [
    "plt.scatter(x, y, color = \"blue\")\n",
    "plt.plot(x, lr.predict(x), color = \"red\") # x - value is bmi\n",
    "plt.title(\"Prediciton of bmi value and charges\")\n",
    "plt.xlabel(\"BMI\")\n",
    "plt.ylabel(\"Charges\")\n",
    "plt.show()"
   ]
  },
  {
   "cell_type": "markdown",
   "id": "a98d57de",
   "metadata": {},
   "source": [
    "Reference for [**`linear regression`**](https://medium.com/geekculture/linear-regression-using-python-7ce93ba8ff2a)"
   ]
  },
  {
   "cell_type": "markdown",
   "id": "142d8ad1",
   "metadata": {},
   "source": [
    " | Project part | Mark     | Comment   \n",
    "|:-------:|:--------:|:----------------------\n",
    "| Introduction       |   /5    |     To get full point, you need to give brief background of your project and why it is interesting for you. \n",
    "| Data description       |   /5    | To get full point, you provide description of your dataset, namely columns.\n",
    "| Research questions       |   /5    | To get full point, you need to create at least 5 good, different, interesting questions. \n",
    "| Data prepartion       |   /20    | To get full point, you need to show proficient skill in using pandas in the purpose of data preparation. \n",
    "| Data analysis and visualisation       |   /30    | To get full point, you need to show proficient skill in using matplotlib or seaborn (or other libraries along with some pandas in the purpose of data visualisation and analysis. Also, you should commment all your graphs.\n",
    "| Conclusion       |   /5    | To get full point, you need to write summary of your finding in general.\n",
    "| Structure and code       |   /10    | To get full point, you need to write efficient code, and all the libraries should be properly used. Also, the whole project should be well structured. \n",
    "| Defense      |   /20    | To get full point, students should properly present their projects during the defense and be able to answer questions from instructor.\n",
    "| Data modelling       |   /5 (bonus)    | \n",
    "|**Total**|**/100**  | \n"
   ]
  }
 ],
 "metadata": {
  "kernelspec": {
   "display_name": "Python 3",
   "language": "python",
   "name": "python3"
  },
  "language_info": {
   "codemirror_mode": {
    "name": "ipython",
    "version": 3
   },
   "file_extension": ".py",
   "mimetype": "text/x-python",
   "name": "python",
   "nbconvert_exporter": "python",
   "pygments_lexer": "ipython3",
   "version": "3.8.8"
  }
 },
 "nbformat": 4,
 "nbformat_minor": 5
}
